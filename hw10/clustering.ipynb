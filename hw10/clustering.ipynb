{
 "cells": [
  {
   "cell_type": "code",
   "execution_count": 2,
   "metadata": {},
   "outputs": [],
   "source": [
    "import numpy as np\n",
    "import pandas as pd\n",
    "import matplotlib.pyplot as plt\n",
    "%matplotlib inline\n",
    "from scipy.cluster.hierarchy import dendrogram, linkage\n",
    "from scipy.spatial.distance import squareform, pdist"
   ]
  },
  {
   "cell_type": "code",
   "execution_count": 3,
   "metadata": {},
   "outputs": [],
   "source": [
    "points = [\"A\", \"B\", \"C\", \"D\", \"E\", \"F\", \"G\", \"H\", \"I\", \"J\"]\n",
    "x_list = [1, 1002, 498, 6, 510, 503, 4, 1010, 1006, 502]\n",
    "y_list = [6, 20, 651, 10, 622, 632, 9, 25, 30, 680]\n",
    "\n",
    "data = pd.DataFrame({'point': points, 'x': x_list, 'y': y_list})\n",
    "data = data.set_index('point')"
   ]
  },
  {
   "cell_type": "code",
   "execution_count": 4,
   "metadata": {},
   "outputs": [
    {
     "data": {
      "image/png": "[encoded data removed]",
      "text/plain": [
       "<Figure size 432x288 with 1 Axes>"
      ]
     },
     "metadata": {
      "needs_background": "light"
     },
     "output_type": "display_data"
    }
   ],
   "source": [
    "# plt.figure(figsize=(12,10))\n",
    "plt.scatter(x_list, y_list)\n",
    "plt.xlabel('x')\n",
    "plt.ylabel('y')\n",
    "plt.title('Scatter Plot of x and y')\n",
    "for l, x, y in zip(points, x_list, y_list):\n",
    "    plt.annotate(l, (x, y), fontsize=15)\n",
    "plt.show()"
   ]
  },
  {
   "cell_type": "code",
   "execution_count": 5,
   "metadata": {},
   "outputs": [],
   "source": [
    "def dist_matrix(data):\n",
    "    dist = pd.DataFrame(squareform(pdist(data[[\"x\", \"y\"]]), \"euclidean\"),\n",
    "                        columns=data.index.values,\n",
    "                        index=data.index.values)\n",
    "\n",
    "\n",
    "    # dist.values[tuple([np.arange(dist.shape[0])] * 2)] = np.nan\n",
    "    return dist"
   ]
  },
  {
   "cell_type": "code",
   "execution_count": 6,
   "metadata": {},
   "outputs": [],
   "source": [
    "def get_min(dist):\n",
    "    min_dist = pd.DataFrame(\n",
    "        pd.concat([dist.idxmin(), dist.min()], axis=1).rename(columns={\n",
    "            0: 'closest',\n",
    "            1: 'distance'\n",
    "        }))\n",
    "    d = min_dist['distance'].min()\n",
    "    A = min_dist['distance'].idxmin()\n",
    "    B = min_dist['closest'][A]\n",
    "    return(A, B, d)"
   ]
  },
  {
   "cell_type": "code",
   "execution_count": 7,
   "metadata": {},
   "outputs": [],
   "source": [
    "# print(get_min(dist))"
   ]
  },
  {
   "cell_type": "code",
   "execution_count": 8,
   "metadata": {},
   "outputs": [
    {
     "name": "stdout",
     "output_type": "stream",
     "text": [
      "Min: A A 0.0\n"
     ]
    },
    {
     "ename": "KeyError",
     "evalue": "\"['A'] not found in axis\"",
     "output_type": "error",
     "traceback": [
      "\u001b[0;31m---------------------------------------------------------------------------\u001b[0m",
      "\u001b[0;31mKeyError\u001b[0m                                  Traceback (most recent call last)",
      "\u001b[0;32m/tmp/ipykernel_3248/1514126545.py\u001b[0m in \u001b[0;36m<module>\u001b[0;34m\u001b[0m\n\u001b[1;32m     16\u001b[0m         \u001b[0mprint\u001b[0m\u001b[0;34m(\u001b[0m\u001b[0mclusters\u001b[0m\u001b[0;34m)\u001b[0m\u001b[0;34m\u001b[0m\u001b[0;34m\u001b[0m\u001b[0m\n\u001b[1;32m     17\u001b[0m         \u001b[0;32mreturn\u001b[0m\u001b[0;34m\u001b[0m\u001b[0;34m\u001b[0m\u001b[0m\n\u001b[0;32m---> 18\u001b[0;31m \u001b[0mcluster\u001b[0m\u001b[0;34m(\u001b[0m\u001b[0mdata\u001b[0m\u001b[0;34m)\u001b[0m\u001b[0;34m\u001b[0m\u001b[0;34m\u001b[0m\u001b[0m\n\u001b[0m",
      "\u001b[0;32m/tmp/ipykernel_3248/1514126545.py\u001b[0m in \u001b[0;36mcluster\u001b[0;34m(data, n_clusters)\u001b[0m\n\u001b[1;32m      7\u001b[0m         \u001b[0mprint\u001b[0m\u001b[0;34m(\u001b[0m\u001b[0;34m'Min:'\u001b[0m \u001b[0;34m,\u001b[0m\u001b[0mA\u001b[0m\u001b[0;34m,\u001b[0m \u001b[0mB\u001b[0m\u001b[0;34m,\u001b[0m \u001b[0md\u001b[0m\u001b[0;34m)\u001b[0m\u001b[0;34m\u001b[0m\u001b[0;34m\u001b[0m\u001b[0m\n\u001b[1;32m      8\u001b[0m         \u001b[0mdata\u001b[0m\u001b[0;34m.\u001b[0m\u001b[0mdrop\u001b[0m\u001b[0;34m(\u001b[0m\u001b[0mB\u001b[0m\u001b[0;34m,\u001b[0m \u001b[0minplace\u001b[0m\u001b[0;34m=\u001b[0m\u001b[0;32mTrue\u001b[0m\u001b[0;34m)\u001b[0m\u001b[0;34m\u001b[0m\u001b[0;34m\u001b[0m\u001b[0m\n\u001b[0;32m----> 9\u001b[0;31m         \u001b[0mdata\u001b[0m\u001b[0;34m.\u001b[0m\u001b[0mdrop\u001b[0m\u001b[0;34m(\u001b[0m\u001b[0mA\u001b[0m\u001b[0;34m,\u001b[0m \u001b[0minplace\u001b[0m\u001b[0;34m=\u001b[0m\u001b[0;32mTrue\u001b[0m\u001b[0;34m)\u001b[0m\u001b[0;34m\u001b[0m\u001b[0;34m\u001b[0m\u001b[0m\n\u001b[0m\u001b[1;32m     10\u001b[0m         \u001b[0mdata\u001b[0m\u001b[0;34m.\u001b[0m\u001b[0madd\u001b[0m\u001b[0;34m(\u001b[0m\u001b[0;34m)\u001b[0m\u001b[0;34m\u001b[0m\u001b[0;34m\u001b[0m\u001b[0m\n\u001b[1;32m     11\u001b[0m         \u001b[0mprint\u001b[0m\u001b[0;34m(\u001b[0m\u001b[0mdata\u001b[0m\u001b[0;34m)\u001b[0m\u001b[0;34m\u001b[0m\u001b[0;34m\u001b[0m\u001b[0m\n",
      "\u001b[0;32m~/miniconda3/envs/ml/lib/python3.9/site-packages/pandas/util/_decorators.py\u001b[0m in \u001b[0;36mwrapper\u001b[0;34m(*args, **kwargs)\u001b[0m\n\u001b[1;32m    309\u001b[0m                     \u001b[0mstacklevel\u001b[0m\u001b[0;34m=\u001b[0m\u001b[0mstacklevel\u001b[0m\u001b[0;34m,\u001b[0m\u001b[0;34m\u001b[0m\u001b[0;34m\u001b[0m\u001b[0m\n\u001b[1;32m    310\u001b[0m                 )\n\u001b[0;32m--> 311\u001b[0;31m             \u001b[0;32mreturn\u001b[0m \u001b[0mfunc\u001b[0m\u001b[0;34m(\u001b[0m\u001b[0;34m*\u001b[0m\u001b[0margs\u001b[0m\u001b[0;34m,\u001b[0m \u001b[0;34m**\u001b[0m\u001b[0mkwargs\u001b[0m\u001b[0;34m)\u001b[0m\u001b[0;34m\u001b[0m\u001b[0;34m\u001b[0m\u001b[0m\n\u001b[0m\u001b[1;32m    312\u001b[0m \u001b[0;34m\u001b[0m\u001b[0m\n\u001b[1;32m    313\u001b[0m         \u001b[0;32mreturn\u001b[0m \u001b[0mwrapper\u001b[0m\u001b[0;34m\u001b[0m\u001b[0;34m\u001b[0m\u001b[0m\n",
      "\u001b[0;32m~/miniconda3/envs/ml/lib/python3.9/site-packages/pandas/core/frame.py\u001b[0m in \u001b[0;36mdrop\u001b[0;34m(self, labels, axis, index, columns, level, inplace, errors)\u001b[0m\n\u001b[1;32m   4899\u001b[0m                 \u001b[0mweight\u001b[0m  \u001b[0;36m1.0\u001b[0m     \u001b[0;36m0.8\u001b[0m\u001b[0;34m\u001b[0m\u001b[0;34m\u001b[0m\u001b[0m\n\u001b[1;32m   4900\u001b[0m         \"\"\"\n\u001b[0;32m-> 4901\u001b[0;31m         return super().drop(\n\u001b[0m\u001b[1;32m   4902\u001b[0m             \u001b[0mlabels\u001b[0m\u001b[0;34m=\u001b[0m\u001b[0mlabels\u001b[0m\u001b[0;34m,\u001b[0m\u001b[0;34m\u001b[0m\u001b[0;34m\u001b[0m\u001b[0m\n\u001b[1;32m   4903\u001b[0m             \u001b[0maxis\u001b[0m\u001b[0;34m=\u001b[0m\u001b[0maxis\u001b[0m\u001b[0;34m,\u001b[0m\u001b[0;34m\u001b[0m\u001b[0;34m\u001b[0m\u001b[0m\n",
      "\u001b[0;32m~/miniconda3/envs/ml/lib/python3.9/site-packages/pandas/core/generic.py\u001b[0m in \u001b[0;36mdrop\u001b[0;34m(self, labels, axis, index, columns, level, inplace, errors)\u001b[0m\n\u001b[1;32m   4148\u001b[0m         \u001b[0;32mfor\u001b[0m \u001b[0maxis\u001b[0m\u001b[0;34m,\u001b[0m \u001b[0mlabels\u001b[0m \u001b[0;32min\u001b[0m \u001b[0maxes\u001b[0m\u001b[0;34m.\u001b[0m\u001b[0mitems\u001b[0m\u001b[0;34m(\u001b[0m\u001b[0;34m)\u001b[0m\u001b[0;34m:\u001b[0m\u001b[0;34m\u001b[0m\u001b[0;34m\u001b[0m\u001b[0m\n\u001b[1;32m   4149\u001b[0m             \u001b[0;32mif\u001b[0m \u001b[0mlabels\u001b[0m \u001b[0;32mis\u001b[0m \u001b[0;32mnot\u001b[0m \u001b[0;32mNone\u001b[0m\u001b[0;34m:\u001b[0m\u001b[0;34m\u001b[0m\u001b[0;34m\u001b[0m\u001b[0m\n\u001b[0;32m-> 4150\u001b[0;31m                 \u001b[0mobj\u001b[0m \u001b[0;34m=\u001b[0m \u001b[0mobj\u001b[0m\u001b[0;34m.\u001b[0m\u001b[0m_drop_axis\u001b[0m\u001b[0;34m(\u001b[0m\u001b[0mlabels\u001b[0m\u001b[0;34m,\u001b[0m \u001b[0maxis\u001b[0m\u001b[0;34m,\u001b[0m \u001b[0mlevel\u001b[0m\u001b[0;34m=\u001b[0m\u001b[0mlevel\u001b[0m\u001b[0;34m,\u001b[0m \u001b[0merrors\u001b[0m\u001b[0;34m=\u001b[0m\u001b[0merrors\u001b[0m\u001b[0;34m)\u001b[0m\u001b[0;34m\u001b[0m\u001b[0;34m\u001b[0m\u001b[0m\n\u001b[0m\u001b[1;32m   4151\u001b[0m \u001b[0;34m\u001b[0m\u001b[0m\n\u001b[1;32m   4152\u001b[0m         \u001b[0;32mif\u001b[0m \u001b[0minplace\u001b[0m\u001b[0;34m:\u001b[0m\u001b[0;34m\u001b[0m\u001b[0;34m\u001b[0m\u001b[0m\n",
      "\u001b[0;32m~/miniconda3/envs/ml/lib/python3.9/site-packages/pandas/core/generic.py\u001b[0m in \u001b[0;36m_drop_axis\u001b[0;34m(self, labels, axis, level, errors)\u001b[0m\n\u001b[1;32m   4183\u001b[0m                 \u001b[0mnew_axis\u001b[0m \u001b[0;34m=\u001b[0m \u001b[0maxis\u001b[0m\u001b[0;34m.\u001b[0m\u001b[0mdrop\u001b[0m\u001b[0;34m(\u001b[0m\u001b[0mlabels\u001b[0m\u001b[0;34m,\u001b[0m \u001b[0mlevel\u001b[0m\u001b[0;34m=\u001b[0m\u001b[0mlevel\u001b[0m\u001b[0;34m,\u001b[0m \u001b[0merrors\u001b[0m\u001b[0;34m=\u001b[0m\u001b[0merrors\u001b[0m\u001b[0;34m)\u001b[0m\u001b[0;34m\u001b[0m\u001b[0;34m\u001b[0m\u001b[0m\n\u001b[1;32m   4184\u001b[0m             \u001b[0;32melse\u001b[0m\u001b[0;34m:\u001b[0m\u001b[0;34m\u001b[0m\u001b[0;34m\u001b[0m\u001b[0m\n\u001b[0;32m-> 4185\u001b[0;31m                 \u001b[0mnew_axis\u001b[0m \u001b[0;34m=\u001b[0m \u001b[0maxis\u001b[0m\u001b[0;34m.\u001b[0m\u001b[0mdrop\u001b[0m\u001b[0;34m(\u001b[0m\u001b[0mlabels\u001b[0m\u001b[0;34m,\u001b[0m \u001b[0merrors\u001b[0m\u001b[0;34m=\u001b[0m\u001b[0merrors\u001b[0m\u001b[0;34m)\u001b[0m\u001b[0;34m\u001b[0m\u001b[0;34m\u001b[0m\u001b[0m\n\u001b[0m\u001b[1;32m   4186\u001b[0m             \u001b[0mresult\u001b[0m \u001b[0;34m=\u001b[0m \u001b[0mself\u001b[0m\u001b[0;34m.\u001b[0m\u001b[0mreindex\u001b[0m\u001b[0;34m(\u001b[0m\u001b[0;34m**\u001b[0m\u001b[0;34m{\u001b[0m\u001b[0maxis_name\u001b[0m\u001b[0;34m:\u001b[0m \u001b[0mnew_axis\u001b[0m\u001b[0;34m}\u001b[0m\u001b[0;34m)\u001b[0m\u001b[0;34m\u001b[0m\u001b[0;34m\u001b[0m\u001b[0m\n\u001b[1;32m   4187\u001b[0m \u001b[0;34m\u001b[0m\u001b[0m\n",
      "\u001b[0;32m~/miniconda3/envs/ml/lib/python3.9/site-packages/pandas/core/indexes/base.py\u001b[0m in \u001b[0;36mdrop\u001b[0;34m(self, labels, errors)\u001b[0m\n\u001b[1;32m   6016\u001b[0m         \u001b[0;32mif\u001b[0m \u001b[0mmask\u001b[0m\u001b[0;34m.\u001b[0m\u001b[0many\u001b[0m\u001b[0;34m(\u001b[0m\u001b[0;34m)\u001b[0m\u001b[0;34m:\u001b[0m\u001b[0;34m\u001b[0m\u001b[0;34m\u001b[0m\u001b[0m\n\u001b[1;32m   6017\u001b[0m             \u001b[0;32mif\u001b[0m \u001b[0merrors\u001b[0m \u001b[0;34m!=\u001b[0m \u001b[0;34m\"ignore\"\u001b[0m\u001b[0;34m:\u001b[0m\u001b[0;34m\u001b[0m\u001b[0;34m\u001b[0m\u001b[0m\n\u001b[0;32m-> 6018\u001b[0;31m                 \u001b[0;32mraise\u001b[0m \u001b[0mKeyError\u001b[0m\u001b[0;34m(\u001b[0m\u001b[0;34mf\"{labels[mask]} not found in axis\"\u001b[0m\u001b[0;34m)\u001b[0m\u001b[0;34m\u001b[0m\u001b[0;34m\u001b[0m\u001b[0m\n\u001b[0m\u001b[1;32m   6019\u001b[0m             \u001b[0mindexer\u001b[0m \u001b[0;34m=\u001b[0m \u001b[0mindexer\u001b[0m\u001b[0;34m[\u001b[0m\u001b[0;34m~\u001b[0m\u001b[0mmask\u001b[0m\u001b[0;34m]\u001b[0m\u001b[0;34m\u001b[0m\u001b[0;34m\u001b[0m\u001b[0m\n\u001b[1;32m   6020\u001b[0m         \u001b[0;32mreturn\u001b[0m \u001b[0mself\u001b[0m\u001b[0;34m.\u001b[0m\u001b[0mdelete\u001b[0m\u001b[0;34m(\u001b[0m\u001b[0mindexer\u001b[0m\u001b[0;34m)\u001b[0m\u001b[0;34m\u001b[0m\u001b[0;34m\u001b[0m\u001b[0m\n",
      "\u001b[0;31mKeyError\u001b[0m: \"['A'] not found in axis\""
     ]
    }
   ],
   "source": [
    "def cluster(data, n_clusters=3):\n",
    "    data = data.copy()\n",
    "    clusters = []\n",
    "    while len(data) > n_clusters:\n",
    "        dist = dist_matrix(data)\n",
    "        A, B, d = get_min(dist)\n",
    "        print('Min:' ,A, B, d)\n",
    "        data.drop(B, inplace=True)\n",
    "        data.drop(A, inplace=True)\n",
    "        data.add()\n",
    "        print(data)\n",
    "        # dist = dist.drop(B)\n",
    "        # dist = dist.drop(A)\n",
    "\n",
    "        clusters.append([A, B])\n",
    "        print(clusters)\n",
    "        return\n",
    "cluster(data)"
   ]
  },
  {
   "cell_type": "code",
   "execution_count": null,
   "metadata": {},
   "outputs": [
    {
     "name": "stdout",
     "output_type": "stream",
     "text": [
      "Cluster 0: C, E, F, J\n",
      "Cluster 1: A, D, G\n",
      "Cluster 2: B, H, I\n"
     ]
    }
   ],
   "source": [
    "from sklearn.cluster import AgglomerativeClustering\n",
    "\n",
    "agg_clustering = AgglomerativeClustering(n_clusters=3,\n",
    "                                         affinity='euclidean',\n",
    "                                         linkage='complete')\n",
    "\n",
    "label = agg_clustering.fit_predict(data)\n",
    "\n",
    "data = data.assign(label=label)\n",
    "print('Cluster 0:', ', '.join(list(data[label == 0].index.values)))\n",
    "print('Cluster 1:', ', '.join(data[label == 1].index.values))\n",
    "print('Cluster 2:', ', '.join(data[label == 2].index.values))"
   ]
  },
  {
   "cell_type": "code",
   "execution_count": null,
   "metadata": {},
   "outputs": [
    {
     "data": {
      "text/html": [
       "<div>\n",
       "<style scoped>\n",
       "    .dataframe tbody tr th:only-of-type {\n",
       "        vertical-align: middle;\n",
       "    }\n",
       "\n",
       "    .dataframe tbody tr th {\n",
       "        vertical-align: top;\n",
       "    }\n",
       "\n",
       "    .dataframe thead th {\n",
       "        text-align: right;\n",
       "    }\n",
       "</style>\n",
       "<table border=\"1\" class=\"dataframe\">\n",
       "  <thead>\n",
       "    <tr style=\"text-align: right;\">\n",
       "      <th></th>\n",
       "      <th>A</th>\n",
       "      <th>B</th>\n",
       "      <th>C</th>\n",
       "      <th>D</th>\n",
       "      <th>E</th>\n",
       "      <th>F</th>\n",
       "      <th>G</th>\n",
       "      <th>H</th>\n",
       "      <th>I</th>\n",
       "      <th>J</th>\n",
       "    </tr>\n",
       "  </thead>\n",
       "  <tbody>\n",
       "    <tr>\n",
       "      <th>A</th>\n",
       "      <td>0.000000</td>\n",
       "      <td>1001.097897</td>\n",
       "      <td>814.268997</td>\n",
       "      <td>6.403124</td>\n",
       "      <td>799.085102</td>\n",
       "      <td>802.421336</td>\n",
       "      <td>4.242641</td>\n",
       "      <td>1009.178874</td>\n",
       "      <td>1005.286526</td>\n",
       "      <td>839.807716</td>\n",
       "    </tr>\n",
       "    <tr>\n",
       "      <th>B</th>\n",
       "      <td>1001.097897</td>\n",
       "      <td>0.000000</td>\n",
       "      <td>807.574764</td>\n",
       "      <td>996.050200</td>\n",
       "      <td>777.475402</td>\n",
       "      <td>789.648656</td>\n",
       "      <td>998.060619</td>\n",
       "      <td>9.433981</td>\n",
       "      <td>10.770330</td>\n",
       "      <td>828.009662</td>\n",
       "    </tr>\n",
       "    <tr>\n",
       "      <th>C</th>\n",
       "      <td>814.268997</td>\n",
       "      <td>807.574764</td>\n",
       "      <td>0.000000</td>\n",
       "      <td>808.050122</td>\n",
       "      <td>31.384710</td>\n",
       "      <td>19.646883</td>\n",
       "      <td>810.061726</td>\n",
       "      <td>808.715030</td>\n",
       "      <td>802.312283</td>\n",
       "      <td>29.274562</td>\n",
       "    </tr>\n",
       "    <tr>\n",
       "      <th>D</th>\n",
       "      <td>6.403124</td>\n",
       "      <td>996.050200</td>\n",
       "      <td>808.050122</td>\n",
       "      <td>0.000000</td>\n",
       "      <td>792.817760</td>\n",
       "      <td>796.173976</td>\n",
       "      <td>2.236068</td>\n",
       "      <td>1004.112046</td>\n",
       "      <td>1000.199980</td>\n",
       "      <td>833.616219</td>\n",
       "    </tr>\n",
       "    <tr>\n",
       "      <th>E</th>\n",
       "      <td>799.085102</td>\n",
       "      <td>777.475402</td>\n",
       "      <td>31.384710</td>\n",
       "      <td>792.817760</td>\n",
       "      <td>0.000000</td>\n",
       "      <td>12.206556</td>\n",
       "      <td>794.861623</td>\n",
       "      <td>778.722672</td>\n",
       "      <td>772.321177</td>\n",
       "      <td>58.549125</td>\n",
       "    </tr>\n",
       "    <tr>\n",
       "      <th>F</th>\n",
       "      <td>802.421336</td>\n",
       "      <td>789.648656</td>\n",
       "      <td>19.646883</td>\n",
       "      <td>796.173976</td>\n",
       "      <td>12.206556</td>\n",
       "      <td>0.000000</td>\n",
       "      <td>798.204235</td>\n",
       "      <td>790.884315</td>\n",
       "      <td>784.482632</td>\n",
       "      <td>48.010416</td>\n",
       "    </tr>\n",
       "    <tr>\n",
       "      <th>G</th>\n",
       "      <td>4.242641</td>\n",
       "      <td>998.060619</td>\n",
       "      <td>810.061726</td>\n",
       "      <td>2.236068</td>\n",
       "      <td>794.861623</td>\n",
       "      <td>798.204235</td>\n",
       "      <td>0.000000</td>\n",
       "      <td>1006.127229</td>\n",
       "      <td>1002.220036</td>\n",
       "      <td>835.610555</td>\n",
       "    </tr>\n",
       "    <tr>\n",
       "      <th>H</th>\n",
       "      <td>1009.178874</td>\n",
       "      <td>9.433981</td>\n",
       "      <td>808.715030</td>\n",
       "      <td>1004.112046</td>\n",
       "      <td>778.722672</td>\n",
       "      <td>790.884315</td>\n",
       "      <td>1006.127229</td>\n",
       "      <td>0.000000</td>\n",
       "      <td>6.403124</td>\n",
       "      <td>828.908318</td>\n",
       "    </tr>\n",
       "    <tr>\n",
       "      <th>I</th>\n",
       "      <td>1005.286526</td>\n",
       "      <td>10.770330</td>\n",
       "      <td>802.312283</td>\n",
       "      <td>1000.199980</td>\n",
       "      <td>772.321177</td>\n",
       "      <td>784.482632</td>\n",
       "      <td>1002.220036</td>\n",
       "      <td>6.403124</td>\n",
       "      <td>0.000000</td>\n",
       "      <td>822.505927</td>\n",
       "    </tr>\n",
       "    <tr>\n",
       "      <th>J</th>\n",
       "      <td>839.807716</td>\n",
       "      <td>828.009662</td>\n",
       "      <td>29.274562</td>\n",
       "      <td>833.616219</td>\n",
       "      <td>58.549125</td>\n",
       "      <td>48.010416</td>\n",
       "      <td>835.610555</td>\n",
       "      <td>828.908318</td>\n",
       "      <td>822.505927</td>\n",
       "      <td>0.000000</td>\n",
       "    </tr>\n",
       "  </tbody>\n",
       "</table>\n",
       "</div>"
      ],
      "text/plain": [
       "             A            B           C            D           E           F  \\\n",
       "A     0.000000  1001.097897  814.268997     6.403124  799.085102  802.421336   \n",
       "B  1001.097897     0.000000  807.574764   996.050200  777.475402  789.648656   \n",
       "C   814.268997   807.574764    0.000000   808.050122   31.384710   19.646883   \n",
       "D     6.403124   996.050200  808.050122     0.000000  792.817760  796.173976   \n",
       "E   799.085102   777.475402   31.384710   792.817760    0.000000   12.206556   \n",
       "F   802.421336   789.648656   19.646883   796.173976   12.206556    0.000000   \n",
       "G     4.242641   998.060619  810.061726     2.236068  794.861623  798.204235   \n",
       "H  1009.178874     9.433981  808.715030  1004.112046  778.722672  790.884315   \n",
       "I  1005.286526    10.770330  802.312283  1000.199980  772.321177  784.482632   \n",
       "J   839.807716   828.009662   29.274562   833.616219   58.549125   48.010416   \n",
       "\n",
       "             G            H            I           J  \n",
       "A     4.242641  1009.178874  1005.286526  839.807716  \n",
       "B   998.060619     9.433981    10.770330  828.009662  \n",
       "C   810.061726   808.715030   802.312283   29.274562  \n",
       "D     2.236068  1004.112046  1000.199980  833.616219  \n",
       "E   794.861623   778.722672   772.321177   58.549125  \n",
       "F   798.204235   790.884315   784.482632   48.010416  \n",
       "G     0.000000  1006.127229  1002.220036  835.610555  \n",
       "H  1006.127229     0.000000     6.403124  828.908318  \n",
       "I  1002.220036     6.403124     0.000000  822.505927  \n",
       "J   835.610555   828.908318   822.505927    0.000000  "
      ]
     },
     "execution_count": 65,
     "metadata": {},
     "output_type": "execute_result"
    }
   ],
   "source": [
    "dist_matrix(data)"
   ]
  },
  {
   "cell_type": "code",
   "execution_count": null,
   "metadata": {},
   "outputs": [
    {
     "data": {
      "text/plain": [
       "x        1\n",
       "y        6\n",
       "label    1\n",
       "Name: A, dtype: int64"
      ]
     },
     "execution_count": 70,
     "metadata": {},
     "output_type": "execute_result"
    }
   ],
   "source": [
    "data.iloc[0]"
   ]
  },
  {
   "cell_type": "code",
   "execution_count": null,
   "metadata": {},
   "outputs": [
    {
     "name": "stdout",
     "output_type": "stream",
     "text": [
      "Iteration 0: dist(D, G) = 2.236 => DG\n",
      "Iteration 1: dist(A, DG) = 6.403 => ADG\n",
      "Iteration 2: dist(H, I) = 6.403 => HI\n",
      "Iteration 3: dist(B, HI) = 10.77 => BHI\n",
      "Iteration 4: dist(E, F) = 12.207 => EF\n",
      "Iteration 5: dist(C, J) = 29.275 => CJ\n",
      "Iteration 6: dist(EF, CJ) = 58.549 => EFCJ\n",
      "Final Clusters: ADG BHI EFCJ\n"
     ]
    }
   ],
   "source": [
    "dists = squareform(dist_matrix(data))\n",
    "# linkage_matrix = linkage(dists, \"single\")\n",
    "linkage_matrix = linkage(dists, \"complete\")\n",
    "points = data.index.values\n",
    "\n",
    "trace = [[_] for _ in points]\n",
    "clusters = [[_] for _ in points]\n",
    "p = lambda i: trace[int(i)]\n",
    "pp = lambda i: f\"{''.join(p(i))}\"\n",
    "n = len(points)\n",
    "\n",
    "for i, row in enumerate(linkage_matrix):\n",
    "    A = int(row[0])\n",
    "    B = int(row[1])\n",
    "    CA = p(A)\n",
    "    CB = p(B)\n",
    "    new = [*CA, *CB]\n",
    "    clusters = [elem for elem in clusters if set(elem) != set(CA) and set(elem) != set(CB)]\n",
    "    # print(clusters)\n",
    "    print(\n",
    "        f\"Iteration {i}: dist({pp(A)}, {pp(B)}) = {np.round(row[2], 3)} => {''.join(new)}\"\n",
    "    )\n",
    "    trace.append(new)\n",
    "    clusters.append(new)\n",
    "    if(len(clusters)<=3):\n",
    "        print('Final Clusters:',*[''.join(c) for c in clusters])\n",
    "        break\n",
    "\n",
    "# dendrogram(linkage_matrix, labels=points)\n",
    "# plt.title(\"Single Link\")\n",
    "# plt.show()"
   ]
  },
  {
   "cell_type": "code",
   "execution_count": null,
   "metadata": {},
   "outputs": [
    {
     "data": {
      "image/png": "[encoded data removed]",
      "text/plain": [
       "<Figure size 576x360 with 1 Axes>"
      ]
     },
     "metadata": {
      "needs_background": "light"
     },
     "output_type": "display_data"
    }
   ],
   "source": [
    "plt.figure(figsize=(8, 5))\n",
    "plt.scatter(data[label == 0]['x'], data[label == 0]['y'], c='red')\n",
    "plt.scatter(data[label == 1]['x'], data[label == 1]['y'], c='blue')\n",
    "plt.scatter(data[label == 2]['x'], data[label == 2]['y'], c='green')\n",
    "plt.show()"
   ]
  },
  {
   "cell_type": "code",
   "execution_count": null,
   "metadata": {},
   "outputs": [
    {
     "name": "stdout",
     "output_type": "stream",
     "text": [
      "Initial Centroids: (500, 10) (200, 700) (800, 200)\n",
      "\n",
      "A\t->\tC0\t d = 499.02\n",
      "B\t->\tC2\t d = 270.56\n",
      "C\t->\tC1\t d = 302.0\n",
      "D\t->\tC0\t d = 494.0\n",
      "E\t->\tC1\t d = 319.66\n",
      "F\t->\tC1\t d = 310.54\n",
      "G\t->\tC0\t d = 496.0\n",
      "H\t->\tC2\t d = 273.36\n",
      "I\t->\tC2\t d = 267.09\n",
      "J\t->\tC1\t d = 302.66\n",
      "Clusters: ADG CEFJ BHI\n",
      "New Centroids: (3.67, 8.33) (503.25, 646.25) (1006.0, 25.0)\n",
      "\n",
      "A\t->\tC0\t d = 3.54\n",
      "B\t->\tC2\t d = 6.4\n",
      "C\t->\tC1\t d = 7.08\n",
      "D\t->\tC0\t d = 2.87\n",
      "E\t->\tC1\t d = 25.17\n",
      "F\t->\tC1\t d = 14.25\n",
      "G\t->\tC0\t d = 0.75\n",
      "H\t->\tC2\t d = 4.0\n",
      "I\t->\tC2\t d = 5.0\n",
      "J\t->\tC1\t d = 33.77\n",
      "Clusters: ADG CEFJ BHI\n",
      "New Centroids: (3.67, 8.33) (503.25, 646.25) (1006.0, 25.0)\n",
      "\n",
      "Final Clusters: ADG CEFJ BHI\n"
     ]
    }
   ],
   "source": [
    "# K Means\n",
    "\n",
    "\n",
    "def k_means(data,\n",
    "            init_centroids=[(500, 10), (200, 700), (800, 200)],\n",
    "            n_clusters=3):\n",
    "    def p(i):\n",
    "        return (data.loc[i].x,\n",
    "         data.loc[i].y) if isinstance(i, str) and i in points else i\n",
    "\n",
    "    def d(p1, p2):\n",
    "\n",
    "        A = p(p1)\n",
    "        B = p(p2)\n",
    "        return np.sqrt(np.sum((A[0] - B[0])**2 + (A[1] - B[1])**2))\n",
    "\n",
    "    data = data.copy()\n",
    "    centroids = [tuple(np.round(p(i), 2)) for i in init_centroids]\n",
    "\n",
    "    print('Initial Centroids:', *[tuple(np.round(c,2)) for c in centroids])\n",
    "    print()\n",
    "    while True:\n",
    "        clusters = [[] for _ in range(n_clusters)]\n",
    "\n",
    "        for i, point in enumerate(points):\n",
    "            dists = [d(point, c) for c in centroids]\n",
    "            m = np.argmin(dists)\n",
    "            # print(dists)\n",
    "            print(\n",
    "                f\"{point}\\t->\\tC{m}\\t d = {np.round(dists[m], 2)}\"\n",
    "            )\n",
    "            clusters[m].append(point)\n",
    "\n",
    "        print('Clusters:', *[''.join(c) for c in clusters])\n",
    "\n",
    "        new_centroids = []\n",
    "        for i, (c, m) in enumerate(zip(clusters, centroids)):\n",
    "            # print('x', [data.loc[p].x for p in c])\n",
    "            mx = np.mean([data.loc[p].x for p in c], axis=0)\n",
    "            my = np.mean([data.loc[p].y for p in c], axis=0)\n",
    "            # print(mx, my)\n",
    "            new_centroids.append(tuple(np.round((mx, my), 2)))\n",
    "        print('New Centroids:',\n",
    "              *[tuple(np.round(c, 2)) for c in new_centroids])\n",
    "        if set(centroids) == set(new_centroids):\n",
    "            # print(set(centroids) , set(new_centroids), sep='==')\n",
    "            print()\n",
    "            print('Final Clusters:', *[''.join(c) for c in clusters])\n",
    "            return\n",
    "\n",
    "\n",
    "        centroids = new_centroids\n",
    "\n",
    "        print()\n",
    "\n",
    "\n",
    "k_means(data)\n",
    "# k_means(data, init_centroids=['A', 'B', 'C'])\n",
    "# k_means(data, init_centroids=['A', 'D', 'G'])\n"
   ]
  },
  {
   "cell_type": "code",
   "execution_count": 35,
   "metadata": {},
   "outputs": [],
   "source": [
    "class KMeans:\n",
    "    \"\"\"\n",
    "    Initialize the K-means model.  Here labels denotes the numpy array of shape (N, ) where each entry at index\n",
    "    i is an integer in {1,...,K} according to which cluster point x_i is assigned to.\n",
    "    \n",
    "    Input:\n",
    "    K, int -- the number of clusters\n",
    "    X, numpy.ndarray -- shape (N, d) where N is the number of data points and d is the dimension\n",
    "    mu_0, numpy.ndarray -- shape (K, d) where K is number of clusters and d is the dimension, \n",
    "                           initialization of cluster centers\n",
    "    \"\"\"\n",
    "    def __init__(self, K, X, mu_0):\n",
    "        assert K == mu_0.shape[0]\n",
    "        self.K = K\n",
    "        self.X = X\n",
    "        self.N = X.shape[0]\n",
    "        self.mu = mu_0\n",
    "        self.labels = None\n",
    "\n",
    "    \"\"\"\n",
    "    The K-Means clustering algorithm.  Update the array of the means, m, as well as the array of labels\n",
    "    for each point in the dataset.\n",
    "    \n",
    "    Input:\n",
    "    iters, int -- the number of K-means iterations to perform\n",
    "    \n",
    "    Return:\n",
    "    labels, numpy.ndarray -- numpy array of ints of shape (N, )\n",
    "                             the cluster assignments (i.e. self.labels after it has been updated)\n",
    "    \"\"\"\n",
    "\n",
    "    def fit(self, iters):\n",
    "        labels = np.zeros(self.N)\n",
    "        mu = self.mu\n",
    "        ## TO DO STARTS HERE ##\n",
    "        for i in range(iters):\n",
    "            dist = self.compute_distances()\n",
    "            labels = np.argmin(dist, axis=1)\n",
    "            mu = self.compute_mu(labels)\n",
    "            if (mu == self.mu).all():\n",
    "                print('Converged at i =',i)\n",
    "                break\n",
    "            self.mu = mu\n",
    "        ## TO DO ENDS HERE ##\n",
    "\n",
    "        # Ensure that the cluster assignments are integers.\n",
    "        labels = labels.astype(int)\n",
    "        self.labels = labels\n",
    "        self.mu = mu\n",
    "        return labels\n",
    "\n",
    "    def compute_mu(self, labels):\n",
    "        mu = np.zeros((self.K, self.X.shape[1]))\n",
    "        n = dict((i, 0) for i in range(self.K))\n",
    "        for x, label in zip(self.X, labels):\n",
    "            mu[label] += x\n",
    "            n[label] += 1\n",
    "\n",
    "        for k in range(self.K):\n",
    "            mu[k] /= n[k]\n",
    "        return mu\n",
    "\n",
    "    \"\"\"\n",
    "    Compute the squared distances from each point in the dataset to each cluster center in the array m.\n",
    "    \n",
    "    Return:\n",
    "    dist, numpy.ndarray -- shape (N, K) of |x_i - mu_j|^2 for i=1,...,N and j=1,...,K\n",
    "    \"\"\"\n",
    "\n",
    "    def compute_distances(self):\n",
    "        ## TO DO STARTS HERE ##\n",
    "        dist = np.ndarray((self.N, self.K))\n",
    "        for n in range(self.N):\n",
    "            for k in range(self.K):\n",
    "                dist[n, k] = np.linalg.norm(self.X[n] - self.mu[k])\n",
    "        ## TO DO ENDS HERE ##\n",
    "        return dist"
   ]
  },
  {
   "cell_type": "code",
   "execution_count": 34,
   "metadata": {},
   "outputs": [
    {
     "name": "stdout",
     "output_type": "stream",
     "text": [
      "labels [0 2 1 0 1 1 0 2 2 1]\n",
      "mu [[   3.66666667    8.33333333]\n",
      " [ 503.25        646.25      ]\n",
      " [1006.           25.        ]]\n",
      "labels [0 2 1 0 1 1 0 2 2 1]\n",
      "mu [[   3.66666667    8.33333333]\n",
      " [ 503.25        646.25      ]\n",
      " [1006.           25.        ]]\n",
      "Converged at i = 1\n"
     ]
    },
    {
     "data": {
      "text/plain": [
       "array([0, 2, 1, 0, 1, 1, 0, 2, 2, 1])"
      ]
     },
     "execution_count": 34,
     "metadata": {},
     "output_type": "execute_result"
    }
   ],
   "source": [
    "# print(data)\n",
    "X = data.values\n",
    "# print(X)\n",
    "KM = KMeans(3, X, np.array([[500, 10], [200, 700], [800, 200]]))\n",
    "KM.fit(200)"
   ]
  }
 ],
 "metadata": {
  "interpreter": {
   "hash": "68ee14b412fd9617a94613e37903c7ba6bb9a423b3eb71728b972aa4f5f2b363"
  },
  "kernelspec": {
   "display_name": "Python 3.9.6 64-bit ('ml': conda)",
   "language": "python",
   "name": "python3"
  },
  "language_info": {
   "codemirror_mode": {
    "name": "ipython",
    "version": 3
   },
   "file_extension": ".py",
   "mimetype": "text/x-python",
   "name": "python",
   "nbconvert_exporter": "python",
   "pygments_lexer": "ipython3",
   "version": "3.9.6"
  },
  "orig_nbformat": 4
 },
 "nbformat": 4,
 "nbformat_minor": 2
}
