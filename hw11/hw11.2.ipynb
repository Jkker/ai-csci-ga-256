{
 "cells": [
  {
   "cell_type": "code",
   "execution_count": 5,
   "metadata": {},
   "outputs": [
    {
     "name": "stdout",
     "output_type": "stream",
     "text": [
      "{1: {'A': {1: 25, 2: 25}, 'B': {1: 25, 2: 20}, 'D': {1: 22, 2: 28}}, 2: {'A': {1: 12, 2: 15}, 'B': {1: 5, 2: 22}, 'D': {1: 20, 2: 10}}, 3: {'A': {1: 18, 2: 2}, 'B': {1: 8, 2: 12}, 'D': {1: 0, 2: 10}}}\n",
      "\n",
      "\n",
      "\n",
      "\n",
      "\\begin{align*}\n",
      "&P(M=1\\mid A=2,B=1,D=1) \\\\&= \\alpha \\cdot P(M=1) \\cdot P(A=2|M=1) \\cdot P(B=1|M=1) \\cdot P(D=1|M=1)\\\\\n",
      "&= \\alpha \\cdot 0.5 \\cdot 0.5 \\cdot 0.5 \\cdot 0.44 \\\\&= \\alpha \\cdot  0.055\n",
      "\\\\\n",
      "\n",
      "&P(M=2\\mid A=2,B=1,D=1) \\\\&= \\alpha \\cdot P(M=2) \\cdot P(A=2|M=2) \\cdot P(B=1|M=2) \\cdot P(D=1|M=2)\\\\\n",
      "&= \\alpha \\cdot 0.3 \\cdot 0.5 \\cdot 0.167 \\cdot 0.667 \\\\&= \\alpha \\cdot  0.017\n",
      "\\\\\n",
      "\n",
      "&P(M=3\\mid A=2,B=1,D=1) \\\\&= \\alpha \\cdot P(M=3) \\cdot P(A=2|M=3) \\cdot P(B=1|M=3) \\cdot P(D=1|M=3)\\\\\n",
      "&= \\alpha \\cdot 0.2 \\cdot 0.1 \\cdot 0.4 \\cdot 0.0 \\\\&= \\alpha \\cdot  0.0\n",
      "\\\\\n",
      "\n",
      "\\end{align*}\n"
     ]
    }
   ],
   "source": [
    "import pandas as pd\n",
    "from copy import deepcopy\n",
    "import numpy as np\n",
    "file = pd.read_csv('./AI HW11.2.csv')\n",
    "\n",
    "df = pd.DataFrame()\n",
    "\n",
    "d = {'A': [1, 2], 'B': [1, 2], 'D': [1, 2]}\n",
    "\n",
    "freq_s = dict()\n",
    "\n",
    "for k, v in d.items():\n",
    "    freq_s[k] = dict((_, 0) for _ in v)\n",
    "\n",
    "attr_counts = dict((m, deepcopy(freq_s)) for m in [1, 2, 3])\n",
    "\n",
    "# print(f)\n",
    "m_vals = [1, 2, 3]\n",
    "m_counts = dict((m, 0) for m in m_vals)\n",
    "\n",
    "for line in file.values:\n",
    "    # print(line)\n",
    "\n",
    "    a = (line[0])\n",
    "    b = (line[1])\n",
    "    d = (line[2])\n",
    "    m = int(line[3])\n",
    "    count = int(line[4])\n",
    "\n",
    "    m_counts[int(m)] += count\n",
    "\n",
    "    if not a == '-': attr_counts[m]['A'][int(a)] += count\n",
    "    if not b == '-': attr_counts[m]['B'][int(b)] += count\n",
    "    if not d == '-': attr_counts[m]['D'][int(d)] += count\n",
    "\n",
    "print(attr_counts)\n",
    "\n",
    "r = lambda x: np.round(x, 3)\n",
    "\n",
    "\n",
    "def get_freq(verbose=False):\n",
    "    if (verbose): print('\\\\begin{align*}')\n",
    "\n",
    "    f = deepcopy(attr_counts)\n",
    "\n",
    "    for m_val in attr_counts:\n",
    "        m = m_counts[m_val]\n",
    "        if(verbose): print(\n",
    "            f'\\\\text{{Freq}}_T(M={m_val}) &= {m}/100 &&= {np.round(m/100, 3)}\\\\\\\\')\n",
    "\n",
    "        for attr, attr_vals in attr_counts[m_val].items():\n",
    "            for val, attr_val_count in attr_vals.items():\n",
    "                cp = attr_val_count / m\n",
    "\n",
    "                f[m_val][attr][val] = cp\n",
    "\n",
    "                if (verbose):\n",
    "                    print(\n",
    "                        f'\\\\text{{Freq}}_T({attr}={val} \\mid M={m_val}) &= {attr_val_count}/{m} &&= {r(cp)}\\\\\\\\'\n",
    "                    )\n",
    "    if (verbose): print('\\\\end{align*}')\n",
    "\n",
    "    return f\n",
    "\n",
    "\n",
    "def pred(verbose=True):\n",
    "    a,b,d = 2,1,1\n",
    "\n",
    "    f = get_freq()\n",
    "    print('\\n\\n\\n')\n",
    "    if (verbose): print('\\\\begin{align*}')\n",
    "    for m in m_vals:\n",
    "        print(f'&P(M={m}\\\\mid A={a},B={b},D={d}) \\\\\\\\&=', end=' ')\n",
    "        print('\\\\alpha \\\\cdot ',end='')\n",
    "        print(f'P(M={m}) \\\\cdot', end=' ')\n",
    "        print(f'P(A={a}|M={m}) \\\\cdot', end=' ')\n",
    "        print(f'P(B={b}|M={m}) \\\\cdot', end=' ')\n",
    "        print(f'P(D={d}|M={m})\\\\\\\\')\n",
    "\n",
    "        print('&=', end=' ')\n",
    "\n",
    "        print('\\\\alpha \\\\cdot ',end='')\n",
    "        print(r(m_counts[m] / 100), end=' \\\\cdot ')\n",
    "        print(r(f[m]['A'][a]), end=' \\\\cdot ')\n",
    "        print(r(f[m]['B'][b]), end=' \\\\cdot ')\n",
    "        print(r(f[m]['D'][d]), end=' \\\\\\\\')\n",
    "        # print('\\\\alpha \\\\cdot ',end='')\n",
    "        print('&=', '\\\\alpha \\\\cdot ', r(m_counts[m] / 100*f[m]['A'][a] * f[m]['B'][b] * f[m]['D'][d]))\n",
    "        print('\\\\\\\\\\n')\n",
    "    if (verbose): print('\\\\end{align*}')\n",
    "\n",
    "\n",
    "pred()\n"
   ]
  },
  {
   "cell_type": "code",
   "execution_count": 97,
   "metadata": {},
   "outputs": [],
   "source": [
    "features, labels = [], []\n",
    "for line in file.values:\n",
    "    a = (line[0])\n",
    "    b = (line[1])\n",
    "    d = (line[2])\n",
    "    m = int(line[3])\n",
    "\n",
    "    features.append([int(_) if _ != '-' else 0 for _ in [a, b, d]])\n",
    "    labels.append(m)\n"
   ]
  },
  {
   "cell_type": "code",
   "execution_count": 100,
   "metadata": {},
   "outputs": [
    {
     "data": {
      "text/plain": [
       "array([[0.53190978, 0.37774773, 0.09034249]])"
      ]
     },
     "execution_count": 100,
     "metadata": {},
     "output_type": "execute_result"
    }
   ],
   "source": [
    "from sklearn.naive_bayes import GaussianNB\n",
    "\n",
    "#Create a Gaussian Classifier\n",
    "model = GaussianNB()\n",
    "\n",
    "# Train the model using the training sets\n",
    "model.fit(features, labels)\n",
    "\n",
    "#Predict Output\n",
    "target = [[2, 1, 1]]\n",
    "# model.predict(target)\n",
    "model.predict_proba(target)\n",
    "# model.predict_log_proba(target)\n",
    "# model.get_params()"
   ]
  }
 ],
 "metadata": {
  "interpreter": {
   "hash": "68ee14b412fd9617a94613e37903c7ba6bb9a423b3eb71728b972aa4f5f2b363"
  },
  "kernelspec": {
   "display_name": "Python 3.9.6 64-bit ('ml': conda)",
   "language": "python",
   "name": "python3"
  },
  "language_info": {
   "codemirror_mode": {
    "name": "ipython",
    "version": 3
   },
   "file_extension": ".py",
   "mimetype": "text/x-python",
   "name": "python",
   "nbconvert_exporter": "python",
   "pygments_lexer": "ipython3",
   "version": "3.9.6"
  },
  "orig_nbformat": 4
 },
 "nbformat": 4,
 "nbformat_minor": 2
}
